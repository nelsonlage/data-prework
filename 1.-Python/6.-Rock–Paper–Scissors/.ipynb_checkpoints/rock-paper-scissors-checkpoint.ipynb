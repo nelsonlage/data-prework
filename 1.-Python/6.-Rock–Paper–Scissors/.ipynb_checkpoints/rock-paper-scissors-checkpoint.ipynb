{
 "cells": [
  {
   "cell_type": "markdown",
   "metadata": {},
   "source": [
    "<img src=\"https://bit.ly/2VnXWr2\" width=\"100\" align=\"left\">"
   ]
  },
  {
   "cell_type": "markdown",
   "metadata": {},
   "source": [
    "# Rock, Paper & Scissors\n",
    "\n",
    "Let's play the famous game against our computer. You can check the rules [here](https://en.wikipedia.org/wiki/Rock%E2%80%93paper%E2%80%93scissors). \n",
    "\n",
    "## Task\n",
    "Create a program that imitates the playability of the well known game of rock, paper, scissors. Follow the guidelines provided.\n",
    "\n",
    "## Tools\n",
    "1. Loop: **for/while**\n",
    "2. Functions: **input(), print()...**\n",
    "3. Conditional statements: **if, elif, else**\n",
    "4. Definition of functions. Modular programming\n",
    "5. Import modules\n",
    "\n",
    "**To solve this challenge, the use of functions is recommended.**\n",
    "\n",
    "#### 1. Import the choice function of the random module."
   ]
  },
  {
   "cell_type": "code",
   "execution_count": 1,
   "metadata": {},
   "outputs": [],
   "source": [
    "from random import choice"
   ]
  },
  {
   "cell_type": "markdown",
   "metadata": {},
   "source": [
    "#### 2. Create a list that includes the 3 possible gesture options of the game: 'rock', 'paper' or 'scissors'. Store the list in a variable called `gestures`."
   ]
  },
  {
   "cell_type": "code",
   "execution_count": 2,
   "metadata": {},
   "outputs": [],
   "source": [
    "gestures = ['rock', 'paper', 'scissors']"
   ]
  },
  {
   "cell_type": "markdown",
   "metadata": {},
   "source": [
    "#### 3. Create a variable called `n_rounds` to store the maximum number of rounds to play in a game. \n",
    "Remember that the number of rounds must be odd: 1, 3, 5, ..."
   ]
  },
  {
   "cell_type": "code",
   "execution_count": 18,
   "metadata": {},
   "outputs": [],
   "source": [
    "n_rounds = 5"
   ]
  },
  {
   "cell_type": "markdown",
   "metadata": {},
   "source": [
    "#### 4. Create a variable called `rounds_to_win` to store the number of rounds that a player must win to win the game.\n",
    "**Hint**: the value stored in `rounds_to_win` depends on the value of `n_rounds`. "
   ]
  },
  {
   "cell_type": "code",
   "execution_count": 21,
   "metadata": {},
   "outputs": [],
   "source": [
    "rounds_to_win = 3"
   ]
  },
  {
   "cell_type": "markdown",
   "metadata": {},
   "source": [
    "#### 5. Create two variables to store the number of rounds that the computer and the player have won. Call these variables `cpu_score` and `player_score`."
   ]
  },
  {
   "cell_type": "code",
   "execution_count": 5,
   "metadata": {},
   "outputs": [],
   "source": [
    "# I don't understand why these variables need to be here if they can't be updated from inside the functions\n",
    "cpu_score = 0\n",
    "player_score = 0"
   ]
  },
  {
   "cell_type": "markdown",
   "metadata": {},
   "source": [
    "#### 6. Define a function that randomly returns one of the 3 gesture options.\n",
    "You will use this function to simulate the gesture choice of the computer. "
   ]
  },
  {
   "cell_type": "code",
   "execution_count": 17,
   "metadata": {},
   "outputs": [],
   "source": [
    "def cpu_choice():\n",
    "    return choice(gestures)"
   ]
  },
  {
   "cell_type": "markdown",
   "metadata": {},
   "source": [
    "#### 7. Define a function that asks the player which is the gesture he or she wants to show: 'rock', 'paper' or 'scissors'.\n",
    "The player should only be allowed to choose one of the 3 gesture options. If the player's choice is not rock, paper or scissors, keep asking until it is."
   ]
  },
  {
   "cell_type": "code",
   "execution_count": 7,
   "metadata": {},
   "outputs": [],
   "source": [
    "def player_choice():\n",
    "    valid_choice = False\n",
    "    \n",
    "    while valid_choice == False:\n",
    "        print(\"Please, enter a gesture:\")\n",
    "        player_gesture = input()\n",
    "    \n",
    "        if player_gesture not in gestures:\n",
    "            pass\n",
    "        else:\n",
    "            valid_choice = True\n",
    "    \n",
    "    return player_gesture"
   ]
  },
  {
   "cell_type": "markdown",
   "metadata": {},
   "source": [
    "#### 8. Define a function that checks who won a round. \n",
    "The function should return 0 if there is a tie, 1 if the computer wins and 2 if the player wins."
   ]
  },
  {
   "cell_type": "code",
   "execution_count": 8,
   "metadata": {},
   "outputs": [],
   "source": [
    "def round_score(cpu_round, player_round):\n",
    "    \n",
    "    if cpu_round == player_round:\n",
    "        return 0\n",
    "    elif cpu_round > player_round:\n",
    "        return 1\n",
    "    else:\n",
    "        return 2"
   ]
  },
  {
   "cell_type": "markdown",
   "metadata": {},
   "source": [
    "#### 9. Define a function that prints the choice of the computer, the choice of the player and a message that announces who won the current round. \n",
    "You should also use this function to update the variables that count the number of rounds that the computer and the player have won. The score of the winner increases by one point. If there is a tie, the score does not increase."
   ]
  },
  {
   "cell_type": "code",
   "execution_count": 9,
   "metadata": {},
   "outputs": [],
   "source": [
    "def choices_and_score(player_choice, cpu_choice):\n",
    "    \n",
    "    print('You chose', player_choice)\n",
    "    print('The CPU chose', cpu_choice)\n",
    "    \n",
    "    cpu_round = 0\n",
    "    player_round = 0\n",
    "    \n",
    "    if player_choice == 'rock':\n",
    "        if cpu_choice == 'scissors':\n",
    "            player_round += 1\n",
    "        elif cpu_choice == 'paper':\n",
    "            cpu_round += 1\n",
    "    elif player_choice == 'scissors':\n",
    "        if cpu_choice == 'paper':\n",
    "            player_round += 1\n",
    "        elif cpu_choice == 'rock':\n",
    "            cpu_round += 1\n",
    "    else:\n",
    "        if cpu_choice == 'rock':\n",
    "            player_round += 1\n",
    "        elif cpu_choice == 'scissors':\n",
    "            cpu_round += 1\n",
    "\n",
    "    round_winner = round_score(cpu_round, player_round)\n",
    "    \n",
    "    if round_winner == 0:\n",
    "        print('It\\'s a tie\\n')\n",
    "    elif round_winner == 1:\n",
    "        print('The CPU won!\\n')\n",
    "    else:\n",
    "        print('You won!\\n')\n",
    "    \n",
    "    return cpu_round, player_round"
   ]
  },
  {
   "cell_type": "markdown",
   "metadata": {},
   "source": [
    "#### 10. Now it's time to code the execution of the game using the functions and variables you defined above. \n",
    "\n",
    "First, create a loop structure that repeats while no player reaches the minimum score necessary to win and the number of rounds is less than the maximum number of rounds to play in a game.  \n",
    "\n",
    "Inside the loop, use the functions and variables above to create the execution of a round: ask for the player's choice, generate the random choice of the computer, show the round results, update the scores, etc. "
   ]
  },
  {
   "cell_type": "code",
   "execution_count": 14,
   "metadata": {},
   "outputs": [],
   "source": [
    "def rock_paper_scissors():\n",
    "    rounds = 1\n",
    "    cpu_score = 0\n",
    "    player_score = 0\n",
    "    \n",
    "    while (rounds <= n_rounds) & (cpu_score < rounds_to_win) & (player_score < rounds_to_win):\n",
    "        print('Round', rounds)\n",
    "        cpu_round, player_round = choices_and_score(player_choice(), cpu_choice())\n",
    "        cpu_score += cpu_round\n",
    "        player_score += player_round\n",
    "        rounds += 1\n",
    "\n",
    "    return cpu_score, player_score"
   ]
  },
  {
   "cell_type": "code",
   "execution_count": 24,
   "metadata": {},
   "outputs": [
    {
     "name": "stdout",
     "output_type": "stream",
     "text": [
      "Round 1\n",
      "Please, enter a gesture:\n",
      "rock\n",
      "You chose rock\n",
      "The CPU chose scissors\n",
      "You won!\n",
      "\n",
      "Round 2\n",
      "Please, enter a gesture:\n",
      "rock\n",
      "You chose rock\n",
      "The CPU chose scissors\n",
      "You won!\n",
      "\n",
      "Round 3\n",
      "Please, enter a gesture:\n",
      "paper\n",
      "You chose paper\n",
      "The CPU chose paper\n",
      "It's a tie\n",
      "\n",
      "Round 4\n",
      "Please, enter a gesture:\n",
      "paper\n",
      "You chose paper\n",
      "The CPU chose scissors\n",
      "The CPU won!\n",
      "\n",
      "Round 5\n",
      "Please, enter a gesture:\n",
      "rock\n",
      "You chose rock\n",
      "The CPU chose paper\n",
      "The CPU won!\n",
      "\n"
     ]
    }
   ],
   "source": [
    "cpu_score, player_score = rock_paper_scissors()"
   ]
  },
  {
   "cell_type": "markdown",
   "metadata": {},
   "source": [
    "#### 11. Print the winner of the game based on who won more rounds.\n",
    "Remember that the game might be tied. "
   ]
  },
  {
   "cell_type": "code",
   "execution_count": 26,
   "metadata": {},
   "outputs": [
    {
     "name": "stdout",
     "output_type": "stream",
     "text": [
      "Each player scored 2 points. It's a tie.\n"
     ]
    }
   ],
   "source": [
    "game_winner = round_score(cpu_score, player_score)\n",
    "\n",
    "if game_winner == 0:\n",
    "    print('Each player scored {} points. It\\'s a tie.'.format(cpu_score))\n",
    "elif game_winner == 1:\n",
    "    print('The CPU scored {} points and won the game. Better luck in the next time.'.format(cpu_score))\n",
    "else:\n",
    "    print('Congratulations, you scored {} points and won the game!'.format(player_score))"
   ]
  },
  {
   "cell_type": "markdown",
   "metadata": {},
   "source": [
    "# Bonus: Rock, Paper, Scissors, Lizard & Spock\n",
    "![](images/rpsls.jpg)\n",
    "\n",
    "In this challenge, you need to improve the previous game by adding two new options. To know more about the rules of the improved version of rock, paper, scissors, check this [link](http://www.samkass.com/theories/RPSSL.html). \n",
    "\n",
    "In addition, you will also need to improve how the game interacts with the player: the number of rounds to play, which must be an odd number, will be requested to the user until a valid number is entered. Define a new function to make that request.\n",
    "\n",
    "**Hint**: Try to reuse the code that you already coded in the previous challenge. If your code is efficient, this bonus will only consist of simple modifications to the original game."
   ]
  },
  {
   "cell_type": "code",
   "execution_count": null,
   "metadata": {},
   "outputs": [],
   "source": []
  }
 ],
 "metadata": {
  "kernelspec": {
   "display_name": "Python 3",
   "language": "python",
   "name": "python3"
  },
  "language_info": {
   "codemirror_mode": {
    "name": "ipython",
    "version": 3
   },
   "file_extension": ".py",
   "mimetype": "text/x-python",
   "name": "python",
   "nbconvert_exporter": "python",
   "pygments_lexer": "ipython3",
   "version": "3.7.11"
  }
 },
 "nbformat": 4,
 "nbformat_minor": 2
}
